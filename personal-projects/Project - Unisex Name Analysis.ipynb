{
 "cells": [
  {
   "cell_type": "code",
   "execution_count": 1,
   "metadata": {
    "collapsed": true
   },
   "outputs": [],
   "source": [
    "import pandas as pd\n",
    "import numpy as np"
   ]
  },
  {
   "cell_type": "markdown",
   "metadata": {},
   "source": [
    "#### Analysis of FiveThirtyEight Data on Unisex names"
   ]
  },
  {
   "cell_type": "code",
   "execution_count": 25,
   "metadata": {
    "collapsed": true
   },
   "outputs": [],
   "source": [
    "names = pd.read_csv(\"unisex_names_table.csv\")"
   ]
  },
  {
   "cell_type": "code",
   "execution_count": 26,
   "metadata": {
    "collapsed": false
   },
   "outputs": [
    {
     "data": {
      "text/html": [
       "<div>\n",
       "<style>\n",
       "    .dataframe thead tr:only-child th {\n",
       "        text-align: right;\n",
       "    }\n",
       "\n",
       "    .dataframe thead th {\n",
       "        text-align: left;\n",
       "    }\n",
       "\n",
       "    .dataframe tbody tr th {\n",
       "        vertical-align: top;\n",
       "    }\n",
       "</style>\n",
       "<table border=\"1\" class=\"dataframe\">\n",
       "  <thead>\n",
       "    <tr style=\"text-align: right;\">\n",
       "      <th></th>\n",
       "      <th>Unnamed: 0</th>\n",
       "      <th>name</th>\n",
       "      <th>total</th>\n",
       "      <th>male_share</th>\n",
       "      <th>female_share</th>\n",
       "      <th>gap</th>\n",
       "    </tr>\n",
       "  </thead>\n",
       "  <tbody>\n",
       "    <tr>\n",
       "      <th>0</th>\n",
       "      <td>1</td>\n",
       "      <td>Casey</td>\n",
       "      <td>176544.328149</td>\n",
       "      <td>0.584287</td>\n",
       "      <td>0.415713</td>\n",
       "      <td>0.168573</td>\n",
       "    </tr>\n",
       "    <tr>\n",
       "      <th>1</th>\n",
       "      <td>2</td>\n",
       "      <td>Riley</td>\n",
       "      <td>154860.665173</td>\n",
       "      <td>0.507639</td>\n",
       "      <td>0.492361</td>\n",
       "      <td>0.015278</td>\n",
       "    </tr>\n",
       "    <tr>\n",
       "      <th>2</th>\n",
       "      <td>3</td>\n",
       "      <td>Jessie</td>\n",
       "      <td>136381.830656</td>\n",
       "      <td>0.477834</td>\n",
       "      <td>0.522166</td>\n",
       "      <td>0.044331</td>\n",
       "    </tr>\n",
       "    <tr>\n",
       "      <th>3</th>\n",
       "      <td>4</td>\n",
       "      <td>Jackie</td>\n",
       "      <td>132928.788740</td>\n",
       "      <td>0.421133</td>\n",
       "      <td>0.578867</td>\n",
       "      <td>0.157735</td>\n",
       "    </tr>\n",
       "    <tr>\n",
       "      <th>4</th>\n",
       "      <td>5</td>\n",
       "      <td>Avery</td>\n",
       "      <td>121797.419516</td>\n",
       "      <td>0.335213</td>\n",
       "      <td>0.664787</td>\n",
       "      <td>0.329574</td>\n",
       "    </tr>\n",
       "  </tbody>\n",
       "</table>\n",
       "</div>"
      ],
      "text/plain": [
       "   Unnamed: 0    name          total  male_share  female_share       gap\n",
       "0           1   Casey  176544.328149    0.584287      0.415713  0.168573\n",
       "1           2   Riley  154860.665173    0.507639      0.492361  0.015278\n",
       "2           3  Jessie  136381.830656    0.477834      0.522166  0.044331\n",
       "3           4  Jackie  132928.788740    0.421133      0.578867  0.157735\n",
       "4           5   Avery  121797.419516    0.335213      0.664787  0.329574"
      ]
     },
     "execution_count": 26,
     "metadata": {},
     "output_type": "execute_result"
    }
   ],
   "source": [
    "names.head()"
   ]
  },
  {
   "cell_type": "code",
   "execution_count": 27,
   "metadata": {
    "collapsed": false
   },
   "outputs": [
    {
     "name": "stdout",
     "output_type": "stream",
     "text": [
      "<class 'pandas.core.frame.DataFrame'>\n",
      "RangeIndex: 919 entries, 0 to 918\n",
      "Data columns (total 6 columns):\n",
      "Unnamed: 0      919 non-null int64\n",
      "name            919 non-null object\n",
      "total           919 non-null float64\n",
      "male_share      919 non-null float64\n",
      "female_share    919 non-null float64\n",
      "gap             919 non-null float64\n",
      "dtypes: float64(4), int64(1), object(1)\n",
      "memory usage: 43.2+ KB\n"
     ]
    }
   ],
   "source": [
    "names.info()"
   ]
  },
  {
   "cell_type": "code",
   "execution_count": 29,
   "metadata": {
    "collapsed": false
   },
   "outputs": [],
   "source": [
    "names.drop(\"Unnamed: 0\", inplace = True, axis=1)"
   ]
  },
  {
   "cell_type": "code",
   "execution_count": 30,
   "metadata": {
    "collapsed": false
   },
   "outputs": [
    {
     "data": {
      "text/html": [
       "<div>\n",
       "<style>\n",
       "    .dataframe thead tr:only-child th {\n",
       "        text-align: right;\n",
       "    }\n",
       "\n",
       "    .dataframe thead th {\n",
       "        text-align: left;\n",
       "    }\n",
       "\n",
       "    .dataframe tbody tr th {\n",
       "        vertical-align: top;\n",
       "    }\n",
       "</style>\n",
       "<table border=\"1\" class=\"dataframe\">\n",
       "  <thead>\n",
       "    <tr style=\"text-align: right;\">\n",
       "      <th></th>\n",
       "      <th>name</th>\n",
       "      <th>total</th>\n",
       "      <th>male_share</th>\n",
       "      <th>female_share</th>\n",
       "      <th>gap</th>\n",
       "    </tr>\n",
       "  </thead>\n",
       "  <tbody>\n",
       "    <tr>\n",
       "      <th>639</th>\n",
       "      <td>Aldean</td>\n",
       "      <td>262.841418</td>\n",
       "      <td>0.333561</td>\n",
       "      <td>0.666439</td>\n",
       "      <td>0.332879</td>\n",
       "    </tr>\n",
       "    <tr>\n",
       "      <th>667</th>\n",
       "      <td>Oluwaseyi</td>\n",
       "      <td>237.927401</td>\n",
       "      <td>0.666278</td>\n",
       "      <td>0.333722</td>\n",
       "      <td>0.332555</td>\n",
       "    </tr>\n",
       "    <tr>\n",
       "      <th>698</th>\n",
       "      <td>Kamarri</td>\n",
       "      <td>217.436651</td>\n",
       "      <td>0.666259</td>\n",
       "      <td>0.333741</td>\n",
       "      <td>0.332519</td>\n",
       "    </tr>\n",
       "    <tr>\n",
       "      <th>756</th>\n",
       "      <td>Vernis</td>\n",
       "      <td>172.896311</td>\n",
       "      <td>0.666205</td>\n",
       "      <td>0.333795</td>\n",
       "      <td>0.332409</td>\n",
       "    </tr>\n",
       "    <tr>\n",
       "      <th>565</th>\n",
       "      <td>Karem</td>\n",
       "      <td>345.429988</td>\n",
       "      <td>0.333961</td>\n",
       "      <td>0.666039</td>\n",
       "      <td>0.332078</td>\n",
       "    </tr>\n",
       "  </tbody>\n",
       "</table>\n",
       "</div>"
      ],
      "text/plain": [
       "          name       total  male_share  female_share       gap\n",
       "639     Aldean  262.841418    0.333561      0.666439  0.332879\n",
       "667  Oluwaseyi  237.927401    0.666278      0.333722  0.332555\n",
       "698    Kamarri  217.436651    0.666259      0.333741  0.332519\n",
       "756     Vernis  172.896311    0.666205      0.333795  0.332409\n",
       "565      Karem  345.429988    0.333961      0.666039  0.332078"
      ]
     },
     "execution_count": 30,
     "metadata": {},
     "output_type": "execute_result"
    }
   ],
   "source": [
    "names.sort_values(\"gap\", ascending=False).head()"
   ]
  },
  {
   "cell_type": "code",
   "execution_count": 31,
   "metadata": {
    "collapsed": false
   },
   "outputs": [
    {
     "data": {
      "text/html": [
       "<div>\n",
       "<style>\n",
       "    .dataframe thead tr:only-child th {\n",
       "        text-align: right;\n",
       "    }\n",
       "\n",
       "    .dataframe thead th {\n",
       "        text-align: left;\n",
       "    }\n",
       "\n",
       "    .dataframe tbody tr th {\n",
       "        vertical-align: top;\n",
       "    }\n",
       "</style>\n",
       "<table border=\"1\" class=\"dataframe\">\n",
       "  <thead>\n",
       "    <tr style=\"text-align: right;\">\n",
       "      <th></th>\n",
       "      <th>name</th>\n",
       "      <th>total</th>\n",
       "      <th>male_share</th>\n",
       "      <th>female_share</th>\n",
       "      <th>gap</th>\n",
       "    </tr>\n",
       "  </thead>\n",
       "  <tbody>\n",
       "    <tr>\n",
       "      <th>108</th>\n",
       "      <td>Camdyn</td>\n",
       "      <td>3274.913501</td>\n",
       "      <td>0.499923</td>\n",
       "      <td>0.500077</td>\n",
       "      <td>0.000154</td>\n",
       "    </tr>\n",
       "    <tr>\n",
       "      <th>431</th>\n",
       "      <td>Kodee</td>\n",
       "      <td>533.325804</td>\n",
       "      <td>0.500158</td>\n",
       "      <td>0.499842</td>\n",
       "      <td>0.000316</td>\n",
       "    </tr>\n",
       "    <tr>\n",
       "      <th>609</th>\n",
       "      <td>Callaway</td>\n",
       "      <td>291.851857</td>\n",
       "      <td>0.499772</td>\n",
       "      <td>0.500228</td>\n",
       "      <td>0.000455</td>\n",
       "    </tr>\n",
       "    <tr>\n",
       "      <th>622</th>\n",
       "      <td>Bless</td>\n",
       "      <td>279.904057</td>\n",
       "      <td>0.499964</td>\n",
       "      <td>0.500036</td>\n",
       "      <td>0.000072</td>\n",
       "    </tr>\n",
       "    <tr>\n",
       "      <th>714</th>\n",
       "      <td>Nike</td>\n",
       "      <td>205.592726</td>\n",
       "      <td>0.499609</td>\n",
       "      <td>0.500391</td>\n",
       "      <td>0.000782</td>\n",
       "    </tr>\n",
       "    <tr>\n",
       "      <th>814</th>\n",
       "      <td>Tkai</td>\n",
       "      <td>142.846541</td>\n",
       "      <td>0.499715</td>\n",
       "      <td>0.500285</td>\n",
       "      <td>0.000570</td>\n",
       "    </tr>\n",
       "  </tbody>\n",
       "</table>\n",
       "</div>"
      ],
      "text/plain": [
       "         name        total  male_share  female_share       gap\n",
       "108    Camdyn  3274.913501    0.499923      0.500077  0.000154\n",
       "431     Kodee   533.325804    0.500158      0.499842  0.000316\n",
       "609  Callaway   291.851857    0.499772      0.500228  0.000455\n",
       "622     Bless   279.904057    0.499964      0.500036  0.000072\n",
       "714      Nike   205.592726    0.499609      0.500391  0.000782\n",
       "814      Tkai   142.846541    0.499715      0.500285  0.000570"
      ]
     },
     "execution_count": 31,
     "metadata": {},
     "output_type": "execute_result"
    }
   ],
   "source": [
    "names[(names[\"gap\"] < 0.002)]"
   ]
  },
  {
   "cell_type": "code",
   "execution_count": 19,
   "metadata": {
    "collapsed": false
   },
   "outputs": [],
   "source": [
    "def starts_with(letter):\n",
    "    name_list = []\n",
    "    for name in names[\"name\"]:\n",
    "        if name[:len(letter)] == letter:\n",
    "            name_list.append(name)\n",
    "    return name_list"
   ]
  },
  {
   "cell_type": "code",
   "execution_count": 38,
   "metadata": {
    "collapsed": false
   },
   "outputs": [],
   "source": [
    "starting_letter_counts = {}\n",
    "\n",
    "for letter in \"ABCDEFGHIJKLMNOPQRSTUVWXYZ\":\n",
    "    count = len(starts_with(letter))\n",
    "    starting_letter_counts[letter] = count"
   ]
  },
  {
   "cell_type": "code",
   "execution_count": 42,
   "metadata": {
    "collapsed": false
   },
   "outputs": [
    {
     "data": {
      "text/plain": [
       "{'A': 101,\n",
       " 'B': 37,\n",
       " 'C': 65,\n",
       " 'D': 63,\n",
       " 'E': 30,\n",
       " 'F': 8,\n",
       " 'G': 19,\n",
       " 'H': 20,\n",
       " 'I': 5,\n",
       " 'J': 79,\n",
       " 'K': 81,\n",
       " 'L': 55,\n",
       " 'M': 61,\n",
       " 'N': 16,\n",
       " 'O': 27,\n",
       " 'P': 18,\n",
       " 'Q': 2,\n",
       " 'R': 62,\n",
       " 'S': 68,\n",
       " 'T': 56,\n",
       " 'U': 1,\n",
       " 'V': 11,\n",
       " 'W': 7,\n",
       " 'X': 1,\n",
       " 'Y': 15,\n",
       " 'Z': 11}"
      ]
     },
     "execution_count": 42,
     "metadata": {},
     "output_type": "execute_result"
    }
   ],
   "source": [
    "starting_letter_counts"
   ]
  },
  {
   "cell_type": "code",
   "execution_count": 62,
   "metadata": {
    "collapsed": true
   },
   "outputs": [],
   "source": [
    "def ends_with(letter):\n",
    "    name_list = []\n",
    "    for name in names[\"name\"]:\n",
    "        if name[-1*len(letter):] == letter:\n",
    "            name_list.append(name)\n",
    "    return name_list"
   ]
  },
  {
   "cell_type": "code",
   "execution_count": 63,
   "metadata": {
    "collapsed": true
   },
   "outputs": [],
   "source": [
    "ending_letter_counts = {}\n",
    "\n",
    "for letter in \"ABCDEFGHIJKLMNOPQRSTUVWXYZ\".lower():\n",
    "    count = len(ends_with(letter))\n",
    "    ending_letter_counts[letter] = count"
   ]
  },
  {
   "cell_type": "code",
   "execution_count": 69,
   "metadata": {
    "collapsed": false
   },
   "outputs": [
    {
     "data": {
      "text/plain": [
       "{'a': 56,\n",
       " 'b': 0,\n",
       " 'c': 1,\n",
       " 'd': 7,\n",
       " 'e': 174,\n",
       " 'f': 0,\n",
       " 'g': 5,\n",
       " 'h': 36,\n",
       " 'i': 96,\n",
       " 'j': 1,\n",
       " 'k': 2,\n",
       " 'l': 66,\n",
       " 'm': 16,\n",
       " 'n': 256,\n",
       " 'o': 9,\n",
       " 'p': 4,\n",
       " 'q': 0,\n",
       " 'r': 32,\n",
       " 's': 32,\n",
       " 't': 17,\n",
       " 'u': 3,\n",
       " 'v': 0,\n",
       " 'w': 1,\n",
       " 'x': 6,\n",
       " 'y': 94,\n",
       " 'z': 5}"
      ]
     },
     "execution_count": 69,
     "metadata": {},
     "output_type": "execute_result"
    }
   ],
   "source": [
    "ending_letter_counts"
   ]
  },
  {
   "cell_type": "code",
   "execution_count": 71,
   "metadata": {
    "collapsed": false
   },
   "outputs": [
    {
     "name": "stdout",
     "output_type": "stream",
     "text": [
      "['Casey', 'Riley', 'Harley', 'Carey', 'Charley', 'Mckinley', 'Finley', 'Ryley', 'Torey', 'Oakley', 'Berkley', 'Berkeley', 'Chancey', 'Hartley', 'Finnley', 'Ramey', 'Reiley', 'Avrey', 'Atley', 'Mackinley', 'Corley', 'Averey', 'Halsey', 'Cheney', 'Rieley', 'Wrigley', 'Cagney', 'Reilley', 'Shey', 'Romey', 'Staley', 'Posey', 'Yardley', 'Chey', 'Rorey', 'Jodey', 'Rilley']\n"
     ]
    }
   ],
   "source": [
    "print(ends_with(\"ey\"))"
   ]
  },
  {
   "cell_type": "markdown",
   "metadata": {},
   "source": [
    "#### Analysis of Social Security Name data by Year"
   ]
  },
  {
   "cell_type": "code",
   "execution_count": 74,
   "metadata": {
    "collapsed": true
   },
   "outputs": [],
   "source": [
    "import os, csv"
   ]
  },
  {
   "cell_type": "code",
   "execution_count": 78,
   "metadata": {
    "collapsed": false
   },
   "outputs": [],
   "source": [
    "os.chdir(\"names\")"
   ]
  },
  {
   "cell_type": "code",
   "execution_count": 239,
   "metadata": {
    "collapsed": false
   },
   "outputs": [],
   "source": [
    "yr1880 = np.genfromtxt(\"yob1880.txt\",delimiter=\"\\n\",dtype=\"str\")"
   ]
  },
  {
   "cell_type": "code",
   "execution_count": 240,
   "metadata": {
    "collapsed": false
   },
   "outputs": [],
   "source": [
    "yr1880 = np.array([row.split(\",\") for row in yr1880])"
   ]
  },
  {
   "cell_type": "code",
   "execution_count": 241,
   "metadata": {
    "collapsed": false
   },
   "outputs": [],
   "source": [
    "index = np.array([item[0] for item in yr1880])\n",
    "columns = np.array([item[1:] for item in yr1880])"
   ]
  },
  {
   "cell_type": "code",
   "execution_count": 242,
   "metadata": {
    "collapsed": false
   },
   "outputs": [],
   "source": [
    "df1880 = pd.DataFrame(data = columns, index = index, columns=[\"sex\",\"count\"])"
   ]
  },
  {
   "cell_type": "code",
   "execution_count": 243,
   "metadata": {
    "collapsed": false
   },
   "outputs": [],
   "source": [
    "df1880[\"count\"] = df1880[\"count\"].apply(int)    "
   ]
  },
  {
   "cell_type": "code",
   "execution_count": 244,
   "metadata": {
    "collapsed": false
   },
   "outputs": [
    {
     "data": {
      "text/html": [
       "<div>\n",
       "<style>\n",
       "    .dataframe thead tr:only-child th {\n",
       "        text-align: right;\n",
       "    }\n",
       "\n",
       "    .dataframe thead th {\n",
       "        text-align: left;\n",
       "    }\n",
       "\n",
       "    .dataframe tbody tr th {\n",
       "        vertical-align: top;\n",
       "    }\n",
       "</style>\n",
       "<table border=\"1\" class=\"dataframe\">\n",
       "  <thead>\n",
       "    <tr style=\"text-align: right;\">\n",
       "      <th></th>\n",
       "      <th>sex</th>\n",
       "      <th>count</th>\n",
       "    </tr>\n",
       "  </thead>\n",
       "  <tbody>\n",
       "    <tr>\n",
       "      <th>Mary</th>\n",
       "      <td>F</td>\n",
       "      <td>7065</td>\n",
       "    </tr>\n",
       "    <tr>\n",
       "      <th>Anna</th>\n",
       "      <td>F</td>\n",
       "      <td>2604</td>\n",
       "    </tr>\n",
       "    <tr>\n",
       "      <th>Emma</th>\n",
       "      <td>F</td>\n",
       "      <td>2003</td>\n",
       "    </tr>\n",
       "    <tr>\n",
       "      <th>Elizabeth</th>\n",
       "      <td>F</td>\n",
       "      <td>1939</td>\n",
       "    </tr>\n",
       "    <tr>\n",
       "      <th>Minnie</th>\n",
       "      <td>F</td>\n",
       "      <td>1746</td>\n",
       "    </tr>\n",
       "  </tbody>\n",
       "</table>\n",
       "</div>"
      ],
      "text/plain": [
       "          sex  count\n",
       "Mary        F   7065\n",
       "Anna        F   2604\n",
       "Emma        F   2003\n",
       "Elizabeth   F   1939\n",
       "Minnie      F   1746"
      ]
     },
     "execution_count": 244,
     "metadata": {},
     "output_type": "execute_result"
    }
   ],
   "source": [
    "df1880.head()"
   ]
  },
  {
   "cell_type": "code",
   "execution_count": 200,
   "metadata": {
    "collapsed": true
   },
   "outputs": [],
   "source": [
    "def create_dataframe(year):\n",
    "    yr = np.genfromtxt(\"yob\"+str(year)+\".txt\",delimiter=\"\\n\", dtype='str')\n",
    "    yr = np.array([row.split(\",\") for row in yr])\n",
    "    index = np.array([item[0] for item in yr])\n",
    "    columns = np.array([item[1:] for item in yr])\n",
    "    df = pd.DataFrame(data = columns, index = index, columns=[\"sex\",\"count\"])\n",
    "    df['count'] = df['count'].apply(int)\n",
    "    return df"
   ]
  },
  {
   "cell_type": "code",
   "execution_count": 202,
   "metadata": {
    "collapsed": false
   },
   "outputs": [],
   "source": [
    "df1986 = create_dataframe(1986)"
   ]
  },
  {
   "cell_type": "code",
   "execution_count": 310,
   "metadata": {
    "collapsed": false
   },
   "outputs": [
    {
     "data": {
      "text/html": [
       "<div>\n",
       "<style>\n",
       "    .dataframe thead tr:only-child th {\n",
       "        text-align: right;\n",
       "    }\n",
       "\n",
       "    .dataframe thead th {\n",
       "        text-align: left;\n",
       "    }\n",
       "\n",
       "    .dataframe tbody tr th {\n",
       "        vertical-align: top;\n",
       "    }\n",
       "</style>\n",
       "<table border=\"1\" class=\"dataframe\">\n",
       "  <thead>\n",
       "    <tr style=\"text-align: right;\">\n",
       "      <th></th>\n",
       "      <th>sex</th>\n",
       "      <th>count</th>\n",
       "    </tr>\n",
       "  </thead>\n",
       "  <tbody>\n",
       "    <tr>\n",
       "      <th>Devin</th>\n",
       "      <td>F</td>\n",
       "      <td>465</td>\n",
       "    </tr>\n",
       "    <tr>\n",
       "      <th>Devin</th>\n",
       "      <td>M</td>\n",
       "      <td>2445</td>\n",
       "    </tr>\n",
       "  </tbody>\n",
       "</table>\n",
       "</div>"
      ],
      "text/plain": [
       "      sex  count\n",
       "Devin   F    465\n",
       "Devin   M   2445"
      ]
     },
     "execution_count": 310,
     "metadata": {},
     "output_type": "execute_result"
    }
   ],
   "source": [
    "df1986.loc[\"Devin\"]"
   ]
  },
  {
   "cell_type": "code",
   "execution_count": 225,
   "metadata": {
    "collapsed": false
   },
   "outputs": [],
   "source": [
    "def unisex_names(df):\n",
    "    names = set()\n",
    "\n",
    "    for name,count in df.index.value_counts().to_dict().items():\n",
    "        if count == 2:\n",
    "            names.add(name)\n",
    "    \n",
    "    unisex_qualified = []\n",
    "    \n",
    "    for name in names:\n",
    "        name_df = df.loc[name]\n",
    "        total_count = name_df[\"count\"].sum()\n",
    "        male_count = name_df[name_df[\"sex\"] == 'M'][\"count\"].sum()\n",
    "        female_count = name_df[name_df[\"sex\"] == 'F'][\"count\"].sum()\n",
    "        if total_count > 100:\n",
    "            if (male_count/total_count > .33) and (female_count/total_count > .33):\n",
    "                unisex_qualified.append(name)\n",
    "    return unisex_qualified\n"
   ]
  },
  {
   "cell_type": "code",
   "execution_count": 227,
   "metadata": {
    "collapsed": false
   },
   "outputs": [
    {
     "data": {
      "text/plain": [
       "34"
      ]
     },
     "execution_count": 227,
     "metadata": {},
     "output_type": "execute_result"
    }
   ],
   "source": [
    "len(unisex_names(df1986))"
   ]
  },
  {
   "cell_type": "code",
   "execution_count": 234,
   "metadata": {
    "collapsed": false
   },
   "outputs": [],
   "source": [
    "def unisex_name_percentage(df):\n",
    "    total_names = df[\"count\"].sum()\n",
    "    total_unisex = df.loc[unisex_names(df)][\"count\"].sum()\n",
    "    return str(round(total_unisex/total_names * 100,2))+\"%\""
   ]
  },
  {
   "cell_type": "code",
   "execution_count": 245,
   "metadata": {
    "collapsed": false
   },
   "outputs": [
    {
     "data": {
      "text/plain": [
       "'0.15%'"
      ]
     },
     "execution_count": 245,
     "metadata": {},
     "output_type": "execute_result"
    }
   ],
   "source": [
    "unisex_name_percentage(df1880)"
   ]
  },
  {
   "cell_type": "code",
   "execution_count": 248,
   "metadata": {
    "collapsed": false
   },
   "outputs": [
    {
     "name": "stdout",
     "output_type": "stream",
     "text": [
      "analyzing 1880's\n",
      "analyzing 1890's\n",
      "analyzing 1900's\n",
      "analyzing 1910's\n",
      "analyzing 1920's\n",
      "analyzing 1930's\n",
      "analyzing 1940's\n",
      "analyzing 1950's\n",
      "analyzing 1960's\n",
      "analyzing 1970's\n",
      "analyzing 1980's\n",
      "analyzing 1990's\n",
      "analyzing 2000's\n",
      "analyzing 2010's\n"
     ]
    }
   ],
   "source": [
    "unisex_name_counts = {}\n",
    "unisex_name_df = {}\n",
    "unisex_name_percentages = {}\n",
    "all_unisex_names = []\n",
    "\n",
    "for year in range(1880,2017):\n",
    "    if year%10 == 0:\n",
    "        print('analyzing '+str(year)+\"'s\")\n",
    "        \n",
    "    df = create_dataframe(year)\n",
    "    unisex_name_df[year] = df\n",
    "    unisex_list = unisex_names(df)\n",
    "    for name in unisex_list:\n",
    "        if name not in all_unisex_names:\n",
    "            all_unisex_names.append(name)\n",
    "    unisex_name_counts[year] = len(unisex_list)\n",
    "    unisex_name_percentages[year] = unisex_name_percentage(df)\n",
    "    \n",
    "    \n",
    "    "
   ]
  },
  {
   "cell_type": "code",
   "execution_count": 309,
   "metadata": {
    "collapsed": false
   },
   "outputs": [
    {
     "name": "stdout",
     "output_type": "stream",
     "text": [
      "['Marion', 'Willie', 'Johnnie', 'Cecil', 'Alva', 'Merle', 'Jimmie', 'Tommie', 'Freddie', 'Odell', 'Guadalupe', 'Patsy', 'Theo', 'Beverly', 'Sammie', 'Augustine', 'Vernie', 'Arlie', 'Gail', 'Lavern', 'Claudie', 'Dana', 'Garnett', 'Meredith', 'Odie', 'Gayle', 'Maxie', 'Carmen', 'Myrl', 'Donnie', 'Trinidad', 'Golden', 'Ivory', 'Terry', 'Jonnie', 'Valentine', 'Carmel', 'Santos', 'Laurel', 'Bobby', 'Audie', 'Dell', 'Jamie', 'Cruz', 'Ocie', 'Ardell', 'Billie', 'Lorenza', 'Mickey', 'Ossie', 'Burnice', 'Jackie', 'Jessie', 'Bobbie', 'Pat', 'Marlyn', 'Ivy', 'Merlyn', 'Allison', 'Refugio', 'Cleo', 'Dee', 'Robin', 'Arden', 'Artie', 'Rosario', 'Sydney', 'Frankie', 'Kaye', 'Lynn', 'Gerry', 'Jan', 'Toby', 'Carrol', 'Laurie', 'Gale', 'Sherrill', 'Sandy', 'Shelby', 'Shannon', 'Lesley', 'Ollie', 'Leigh', 'Barrie', 'Tracy', 'Kim', 'Marty', 'Leslie', 'Lavon', 'Lauren', 'Kerry', 'Rickie', 'Sheridan', 'Lennie', 'Kris', 'Stacy', 'Unknown', 'Lindsay', 'Jodie', 'Terrill', 'Rory', 'Jody', 'Darnell', 'Hilary', 'Hollis', 'Courtney', 'Ricki', 'Shawn', 'Stacey', 'Lindsey', 'Rene', 'Vernell', 'Michal', 'Allyn', 'Robbin', 'Kyle', 'Kit', 'Kelley', 'Dorian', 'Robbie', 'Cris', 'Shaun', 'Lee', 'Dann', 'Layne', 'Val', 'Kelly', 'Ashley', 'Clair', 'Paris', 'Andra', 'Angel', 'Devon', 'Tory', 'Whitney', 'Carey', 'Alexis', 'Regan', 'Jamey', 'Jaimie', 'Britt', 'Brook', 'Kristian', 'Jammie', 'Darby', 'Dusty', 'Lacy', 'Jacque', 'Jade', 'Shea', 'Michel', 'Deshawn', 'Shan', 'Kelsey', 'Kenyatta', 'Shay', 'Kary', 'Ali', 'Germaine', 'Jayme', 'Trinity', 'Aubrey', 'Cheyenne', 'Demetrice', 'Lupe', 'Nakia', 'Cary', 'Reagan', 'Tobey', 'Shanon', 'Jaime', 'Kacy', 'Demetris', 'Shiloh', 'Torey', 'Cassidy', 'Dwan', 'Morgan', 'Ariel', 'Kai', 'Sky', 'Sage', 'Casey', 'Devan', 'Deven', 'Adrien', 'Marlo', 'Rian', 'Quinn', 'Shilo', 'Nicky', 'Lashawn', 'Blair', 'Kendall', 'Tramaine', 'Thanh', 'Stevie', 'Skye', 'Seneca', 'Taylor', 'Loren', 'Kendal', 'Dominique', 'Lane', 'Kirby', 'Baby', 'Jean', 'August', 'Noel', 'Tristen', 'Kameron', 'Catlin', 'Tristin', 'Montana', 'Dakota', 'Ashton', 'Bryn', 'Charley', 'Codie', 'Channing', 'Kc', 'London', 'Kodi', 'Codi', 'Infant', 'Peyton', 'Skylar', 'Devyn', 'Sunny', 'Jourdan', 'Sidney', 'Jessy', 'Jorden', 'Dominque', 'Milan', 'Nicola', 'Unnamed', 'Deandrea', 'Remy', 'Avery', 'Shae', 'Carrington', 'Jullian', 'Jensen', 'Dakotah', 'Harley', 'Kennedy', 'Kalen', 'Parris', 'Kalin', 'Murphy', 'Domonique', 'Payton', 'Alexi', 'Emery', 'Jodeci', 'Darian', 'Tylar', 'Carlin', 'Kelby', 'Chandler', 'Darrian', 'Kendell', 'Armani', 'Elisha', 'Jaden', 'Paxton', 'Jaylin', 'Reilly', 'Addison', 'Justice', 'Mckinley', 'Santana', 'Kaelin', 'Rowan', 'Karson', 'Shai', 'Ryley', 'Camryn', 'Amari', 'Phoenix', 'Kodie', 'Sloan', 'Arin', 'Riley', 'Emory', 'Jaylyn', 'Zaire', 'Lakota', 'Laine', 'Jalyn', 'Storm', 'Tristyn', 'Jordin', 'Ocean', 'Joan', 'Baily', 'Jaiden', 'Mykel', 'Krishna', 'Kimani', 'Kamari', 'Emerson', 'Tai', 'Daryn', 'Kiran', 'Alijah', 'Jai', 'Jordan', 'Schuyler', 'Arian', 'Bayley', 'Skyler', 'Landry', 'Carsen', 'Aries', 'Divine', 'Jaelin', 'Campbell', 'Micaiah', 'Kalani', 'Karsen', 'Notnamed', 'Noa', 'Dasani', 'Rhyan', 'Jadin', 'Mikah', 'Azariah', 'Jules', 'Jael', 'Jadan', 'Remi', 'Bentley', 'Ramsey', 'Mayson', 'Jaydin', 'Haiden', 'Arya', 'Austyn', 'Torrance', 'Kiernan', 'Maison', 'Tegan', 'Scout', 'Kadyn', 'Reese', 'Yael', 'Sutton', 'Daylin', 'Rio', 'Caelan', 'Nikita', 'Finley', 'Ashtin', 'Jaidan', 'Ashten', 'Aidyn', 'Camdyn', 'Kasey', 'Samari', 'Charly', 'Salem', 'Raleigh', 'Ryen', 'Christen', 'Jaidyn', 'Dru', 'Chayse', 'Kaidyn', 'Sol', 'Osiris', 'Andi', 'Haidyn', 'Cameran', 'Oakley', 'Isa', 'Jaedyn', 'Braylin', 'Jaydyn', 'Teegan', 'Rylin', 'Karol', 'Kamdyn', 'Aris', 'Yuri', 'Dior', 'Talyn', 'Kaedyn', 'Ami', 'Tenzin', 'Kylin', 'Shalom', 'Gabriele', 'Kaydin', 'Zyon', 'River', 'Briar', 'Camari', 'Gentry', 'Payden', 'Jaziah', 'Shia', 'Finnley', 'Kingsley', 'Rowen', 'Leighton', 'Marlin', 'Kamauri', 'Laken', 'Amauri', 'Armoni', 'Shayne', 'Cadyn', 'Aven', 'Imari', 'Gracen', 'Hayden', 'Brighton', 'Tru', 'Monroe', 'Linden', 'Lyrik', 'Legacy', 'Arie', 'Reign', 'Seven', 'Honor', 'Payson', 'Khamani', 'Mykah', 'Carsyn', 'Taylen', 'Jadyn', 'Kameryn', 'Ever', 'Quinlan', 'Zakaria', 'Dereon', 'Britton', 'Cameryn', 'Charlie', 'Palmer', 'Emari', 'Damani', 'Ellis', 'Kyrie', 'Denim', 'Lian', 'Tatum', 'Ira', 'Denver', 'Merritt', 'Auden', 'Cedar', 'Eastyn', 'Rebel', 'Lennon', 'Cree', 'True', 'Ridley', 'Wynn', 'Lexington', 'Timber', 'Indiana', 'Sevyn', 'Royal', 'Aaryn', 'Kylar', 'Charleston', 'Baylor', 'Amen', 'Arrow', 'Raylin', 'Austen', 'Daelyn', 'Royale', 'Dempsey', 'Raylen', 'Bryar', 'Lennox', 'Lenox', 'Perry', 'Lake', 'Larkin', 'Bradlee', 'Crimson', 'Clarke', 'Cypress', 'Nazareth', 'Riyan', 'Masyn', 'Jupiter', 'Ellington', 'Remington', 'Bowie', 'Teigen', 'Harlem']\n"
     ]
    }
   ],
   "source": [
    "print(all_unisex_names)"
   ]
  },
  {
   "cell_type": "code",
   "execution_count": 253,
   "metadata": {
    "collapsed": false
   },
   "outputs": [],
   "source": [
    "in_other_set = [name for name in names[\"name\"] if name not in all_unisex_names]"
   ]
  },
  {
   "cell_type": "code",
   "execution_count": 255,
   "metadata": {
    "collapsed": false
   },
   "outputs": [
    {
     "data": {
      "text/plain": [
       "722"
      ]
     },
     "execution_count": 255,
     "metadata": {},
     "output_type": "execute_result"
    }
   ],
   "source": []
  },
  {
   "cell_type": "code",
   "execution_count": 163,
   "metadata": {
    "collapsed": true
   },
   "outputs": [],
   "source": [
    "import matplotlib.pyplot as plt\n",
    "%matplotlib inline"
   ]
  },
  {
   "cell_type": "code",
   "execution_count": 293,
   "metadata": {
    "collapsed": false
   },
   "outputs": [
    {
     "data": {
      "text/plain": [
       "<matplotlib.text.Text at 0x20841f129e8>"
      ]
     },
     "execution_count": 293,
     "metadata": {},
     "output_type": "execute_result"
    },
    {
     "data": {
      "image/png": "[encoded data removed]",
      "text/plain": [
       "<matplotlib.figure.Figure at 0x20841c6ab00>"
      ]
     },
     "metadata": {},
     "output_type": "display_data"
    }
   ],
   "source": [
    "fig1 = plt.figure(figsize=(16,8))\n",
    "ax1 = fig1.add_subplot(1,1,1)\n",
    "ax1.plot(list(unisex_name_counts.keys()),list(unisex_name_counts.values()))\n",
    "ax1.set_xlabel(\"year\")\n",
    "ax1.set_ylabel(\"number of unisex names\")\n",
    "plt.title(\"Total Unisex Names by Year\")"
   ]
  },
  {
   "cell_type": "code",
   "execution_count": 290,
   "metadata": {
    "collapsed": false
   },
   "outputs": [
    {
     "data": {
      "text/plain": [
       "<matplotlib.text.Text at 0x2084058efd0>"
      ]
     },
     "execution_count": 290,
     "metadata": {},
     "output_type": "execute_result"
    },
    {
     "data": {
      "image/png": "[encoded data removed]",
      "text/plain": [
       "<matplotlib.figure.Figure at 0x208405dcf28>"
      ]
     },
     "metadata": {},
     "output_type": "display_data"
    }
   ],
   "source": [
    "fig2 = plt.figure(figsize=(16,8))\n",
    "ax2 = fig2.add_subplot(1,1,1)\n",
    "ax2.plot(list(unisex_name_percentages.keys()),[float(n[:-1]) for n in unisex_name_percentages.values()],c='red')\n",
    "ax2.set_xlabel(\"year\")\n",
    "ax2.set_ylabel(\"percentage of names that are unisex\")\n",
    "plt.title(\"Percentage of Unisex Names by Year\")"
   ]
  },
  {
   "cell_type": "code",
   "execution_count": 307,
   "metadata": {
    "collapsed": false
   },
   "outputs": [
    {
     "data": {
      "text/plain": [
       "<matplotlib.text.Text at 0x20844631208>"
      ]
     },
     "execution_count": 307,
     "metadata": {},
     "output_type": "execute_result"
    },
    {
     "data": {
      "image/png": "[encoded data removed]",
      "text/plain": [
       "<matplotlib.figure.Figure at 0x208424c5cc0>"
      ]
     },
     "metadata": {},
     "output_type": "display_data"
    }
   ],
   "source": [
    "def two_scales(ax1, time, data1, data2, c1, c2):\n",
    "\n",
    "    ax2 = ax1.twinx()\n",
    "\n",
    "    ax1.plot(time, data1, color=c1)\n",
    "    ax1.set_xlabel('year')\n",
    "    ax1.set_ylabel('number of unisex names')\n",
    "\n",
    "    ax2.plot(time, data2, color=c2)\n",
    "    ax2.set_ylabel('percentage of names that are unisex')\n",
    "    return ax1, ax2\n",
    "\n",
    "\n",
    "# Create some mock data\n",
    "t = list(unisex_name_percentages.keys())\n",
    "s1 = list(unisex_name_counts.values())\n",
    "s2 = [float(n[:-1]) for n in unisex_name_percentages.values()]\n",
    "\n",
    "# Create axes\n",
    "fig = plt.figure(figsize=(16,8))\n",
    "ax = fig.add_subplot(1,1,1)\n",
    "ax1, ax2 = two_scales(ax, t, s1, s2, 'b', 'r')\n",
    "\n",
    "\n",
    "# Change color of each axis\n",
    "def color_y_axis(ax, color):\n",
    "    \"\"\"Color your axes.\"\"\"\n",
    "    for t in ax.get_yticklabels():\n",
    "        t.set_color(color)\n",
    "    return None\n",
    "color_y_axis(ax1, 'b')\n",
    "color_y_axis(ax2, 'r')\n",
    "\n",
    "plt.title(\"Number of Unisex Names vs Percentage of Unisex Names by Year\")"
   ]
  },
  {
   "cell_type": "code",
   "execution_count": null,
   "metadata": {
    "collapsed": false
   },
   "outputs": [],
   "source": []
  },
  {
   "cell_type": "code",
   "execution_count": null,
   "metadata": {
    "collapsed": true
   },
   "outputs": [],
   "source": []
  }
 ],
 "metadata": {
  "kernelspec": {
   "display_name": "Python 3",
   "language": "python",
   "name": "python3"
  },
  "language_info": {
   "codemirror_mode": {
    "name": "ipython",
    "version": 3
   },
   "file_extension": ".py",
   "mimetype": "text/x-python",
   "name": "python",
   "nbconvert_exporter": "python",
   "pygments_lexer": "ipython3",
   "version": "3.5.3"
  }
 },
 "nbformat": 4,
 "nbformat_minor": 2
}
