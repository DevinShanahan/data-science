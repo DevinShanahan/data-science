{
 "cells": [
  {
   "cell_type": "code",
   "execution_count": 1,
   "metadata": {
    "collapsed": true
   },
   "outputs": [],
   "source": [
    "import pandas as pd\n",
    "import numpy as np"
   ]
  },
  {
   "cell_type": "code",
   "execution_count": 2,
   "metadata": {
    "collapsed": true
   },
   "outputs": [],
   "source": [
    "masters = pd.read_csv('all_data.csv', index_col=0)"
   ]
  },
  {
   "cell_type": "code",
   "execution_count": 3,
   "metadata": {},
   "outputs": [
    {
     "data": {
      "text/plain": [
       "Index(['player_name', 'year', 'wgr', 'masters_finish', 'total_score',\n",
       "       'ranking', 'top_10', 'wins', 'score_average', 'rounds', 'bounce_back',\n",
       "       'driving_accuracy', 'driving_distance', 'par5_SA', 'gir',\n",
       "       'hole_proximity', 'putts_round', 'scramble', 'sg_putt', 'sg_t2g',\n",
       "       'sg_total', 'points_gained', 'm_cut', 'top_25', 'new_score', 'm_play'],\n",
       "      dtype='object')"
      ]
     },
     "execution_count": 3,
     "metadata": {},
     "output_type": "execute_result"
    }
   ],
   "source": [
    "masters.columns"
   ]
  },
  {
   "cell_type": "code",
   "execution_count": 4,
   "metadata": {
    "collapsed": true
   },
   "outputs": [],
   "source": [
    "from sklearn.preprocessing import MinMaxScaler\n",
    "def normalize_data(data):\n",
    "    data = data.values\n",
    "    data = np.concatenate((data, data ** 2, data ** 3), axis=1)\n",
    "\n",
    "    scaler = MinMaxScaler().fit(data)\n",
    "    data = scaler.transform(data)\n",
    "    return data"
   ]
  },
  {
   "cell_type": "code",
   "execution_count": 5,
   "metadata": {
    "collapsed": true
   },
   "outputs": [],
   "source": [
    "masters2019 = pd.read_csv('masters2019.csv')\n",
    "data2019 = masters2019.drop(['player_name'], axis=1)\n",
    "normalized = normalize_data(data2019)\n",
    "names = data2019.columns\n",
    "new_cols = [n for n in names] + [n + '^2' for n in names] + [n + '^3' for n in names]\n",
    "data2019 = pd.DataFrame(normalized, columns=new_cols)"
   ]
  },
  {
   "cell_type": "code",
   "execution_count": 6,
   "metadata": {
    "collapsed": true
   },
   "outputs": [],
   "source": [
    "masters['avg_score'] = masters['total_score']\n",
    "for i, row in masters.iterrows():\n",
    "    if row['m_cut']:\n",
    "        masters.loc[i, 'avg_score'] /= 4\n",
    "    else:\n",
    "        masters.loc[i, 'avg_score'] /= 2\n",
    "        \n",
    "masters.drop(masters[masters['avg_score'] < 60].index, inplace=True)"
   ]
  },
  {
   "cell_type": "code",
   "execution_count": 7,
   "metadata": {
    "collapsed": true
   },
   "outputs": [],
   "source": [
    "analyze = masters.drop(['player_name', 'year', 'masters_finish', 'total_score', 'ranking', 'hole_proximity',\n",
    "                        'points_gained', 'm_cut', 'top_25', 'new_score', 'm_play', 'avg_score'], \n",
    "                           axis=1)\n",
    "data = normalize_data(analyze)\n",
    "shuffle = np.random.permutation(range(len(analyze.index)))\n",
    "data = data[shuffle]\n",
    "splitIdx = int(len(shuffle) * .8)\n",
    "trainData = data[:splitIdx]\n",
    "testData = data[splitIdx:]\n",
    "\n",
    "names = analyze.columns\n",
    "new_cols = [n for n in names] + [n + '^2' for n in names] + [n + '^3' for n in names]\n",
    "train_X = pd.DataFrame(trainData, columns=new_cols)\n",
    "test_X = pd.DataFrame(testData, columns=new_cols)\n",
    "train_data = pd.DataFrame(data, columns=new_cols)"
   ]
  },
  {
   "cell_type": "code",
   "execution_count": 8,
   "metadata": {
    "collapsed": true
   },
   "outputs": [],
   "source": [
    "train_labels = masters['avg_score'].values[shuffle][:splitIdx]\n",
    "train_Y = pd.DataFrame(train_labels, columns=['avg_score'])\n",
    "test_labels = masters['avg_score'].values[shuffle][splitIdx:]\n",
    "test_Y = pd.DataFrame(test_labels, columns=['avg_score'])\n",
    "train_labels = pd.DataFrame(masters['avg_score'].values[shuffle])"
   ]
  },
  {
   "cell_type": "code",
   "execution_count": 9,
   "metadata": {},
   "outputs": [],
   "source": [
    "from sklearn.linear_model import RidgeCV\n",
    "reg = RidgeCV()\n",
    "reg.fit(train_X, train_Y)\n",
    "pred = reg.predict(test_X)"
   ]
  },
  {
   "cell_type": "code",
   "execution_count": 10,
   "metadata": {
    "collapsed": true
   },
   "outputs": [],
   "source": [
    "from sklearn.metrics import mean_squared_error\n",
    "rmse = mean_squared_error(test_Y, pred) ** 0.5"
   ]
  },
  {
   "cell_type": "code",
   "execution_count": 11,
   "metadata": {},
   "outputs": [
    {
     "data": {
      "text/plain": [
       "2.3722508446200363"
      ]
     },
     "execution_count": 11,
     "metadata": {},
     "output_type": "execute_result"
    }
   ],
   "source": [
    "rmse"
   ]
  },
  {
   "cell_type": "code",
   "execution_count": 12,
   "metadata": {},
   "outputs": [],
   "source": [
    "reg.fit(train_data, train_labels)\n",
    "pred2019 = reg.predict(data2019)"
   ]
  },
  {
   "cell_type": "code",
   "execution_count": 13,
   "metadata": {
    "collapsed": true
   },
   "outputs": [],
   "source": [
    "predicted_names = masters2019[['player_name', 'wgr']].copy()"
   ]
  },
  {
   "cell_type": "code",
   "execution_count": 14,
   "metadata": {
    "collapsed": true
   },
   "outputs": [],
   "source": [
    "predicted_names['pred_score'] = pred2019"
   ]
  },
  {
   "cell_type": "code",
   "execution_count": 15,
   "metadata": {
    "collapsed": true
   },
   "outputs": [],
   "source": [
    "sort_pred = predicted_names.sort_values(by='pred_score')"
   ]
  },
  {
   "cell_type": "code",
   "execution_count": 16,
   "metadata": {},
   "outputs": [
    {
     "data": {
      "text/html": [
       "<div>\n",
       "<style scoped>\n",
       "    .dataframe tbody tr th:only-of-type {\n",
       "        vertical-align: middle;\n",
       "    }\n",
       "\n",
       "    .dataframe tbody tr th {\n",
       "        vertical-align: top;\n",
       "    }\n",
       "\n",
       "    .dataframe thead th {\n",
       "        text-align: right;\n",
       "    }\n",
       "</style>\n",
       "<table border=\"1\" class=\"dataframe\">\n",
       "  <thead>\n",
       "    <tr style=\"text-align: right;\">\n",
       "      <th></th>\n",
       "      <th>player_name</th>\n",
       "      <th>wgr</th>\n",
       "      <th>pred_score</th>\n",
       "    </tr>\n",
       "  </thead>\n",
       "  <tbody>\n",
       "    <tr>\n",
       "      <th>2</th>\n",
       "      <td>Rory McIlroy</td>\n",
       "      <td>3</td>\n",
       "      <td>70.910900</td>\n",
       "    </tr>\n",
       "    <tr>\n",
       "      <th>1</th>\n",
       "      <td>Dustin Johnson</td>\n",
       "      <td>2</td>\n",
       "      <td>71.275450</td>\n",
       "    </tr>\n",
       "    <tr>\n",
       "      <th>0</th>\n",
       "      <td>Justin Rose</td>\n",
       "      <td>1</td>\n",
       "      <td>71.614997</td>\n",
       "    </tr>\n",
       "  </tbody>\n",
       "</table>\n",
       "</div>"
      ],
      "text/plain": [
       "      player_name  wgr  pred_score\n",
       "2    Rory McIlroy    3   70.910900\n",
       "1  Dustin Johnson    2   71.275450\n",
       "0     Justin Rose    1   71.614997"
      ]
     },
     "execution_count": 16,
     "metadata": {},
     "output_type": "execute_result"
    }
   ],
   "source": [
    "sort_pred[sort_pred['wgr'] <= 15].head(3)"
   ]
  },
  {
   "cell_type": "code",
   "execution_count": 17,
   "metadata": {},
   "outputs": [
    {
     "data": {
      "text/html": [
       "<div>\n",
       "<style scoped>\n",
       "    .dataframe tbody tr th:only-of-type {\n",
       "        vertical-align: middle;\n",
       "    }\n",
       "\n",
       "    .dataframe tbody tr th {\n",
       "        vertical-align: top;\n",
       "    }\n",
       "\n",
       "    .dataframe thead th {\n",
       "        text-align: right;\n",
       "    }\n",
       "</style>\n",
       "<table border=\"1\" class=\"dataframe\">\n",
       "  <thead>\n",
       "    <tr style=\"text-align: right;\">\n",
       "      <th></th>\n",
       "      <th>player_name</th>\n",
       "      <th>wgr</th>\n",
       "      <th>pred_score</th>\n",
       "    </tr>\n",
       "  </thead>\n",
       "  <tbody>\n",
       "    <tr>\n",
       "      <th>20</th>\n",
       "      <td>Patrick Cantlay</td>\n",
       "      <td>21</td>\n",
       "      <td>71.855517</td>\n",
       "    </tr>\n",
       "    <tr>\n",
       "      <th>26</th>\n",
       "      <td>Sergio Garcia</td>\n",
       "      <td>27</td>\n",
       "      <td>72.188240</td>\n",
       "    </tr>\n",
       "    <tr>\n",
       "      <th>21</th>\n",
       "      <td>Phil Mickelson</td>\n",
       "      <td>22</td>\n",
       "      <td>72.283081</td>\n",
       "    </tr>\n",
       "  </tbody>\n",
       "</table>\n",
       "</div>"
      ],
      "text/plain": [
       "        player_name  wgr  pred_score\n",
       "20  Patrick Cantlay   21   71.855517\n",
       "26    Sergio Garcia   27   72.188240\n",
       "21   Phil Mickelson   22   72.283081"
      ]
     },
     "execution_count": 17,
     "metadata": {},
     "output_type": "execute_result"
    }
   ],
   "source": [
    "sort_pred[(sort_pred['wgr'] > 15) & (sort_pred['wgr'] <= 30)].head(3)"
   ]
  },
  {
   "cell_type": "code",
   "execution_count": 18,
   "metadata": {},
   "outputs": [
    {
     "data": {
      "text/html": [
       "<div>\n",
       "<style scoped>\n",
       "    .dataframe tbody tr th:only-of-type {\n",
       "        vertical-align: middle;\n",
       "    }\n",
       "\n",
       "    .dataframe tbody tr th {\n",
       "        vertical-align: top;\n",
       "    }\n",
       "\n",
       "    .dataframe thead th {\n",
       "        text-align: right;\n",
       "    }\n",
       "</style>\n",
       "<table border=\"1\" class=\"dataframe\">\n",
       "  <thead>\n",
       "    <tr style=\"text-align: right;\">\n",
       "      <th></th>\n",
       "      <th>player_name</th>\n",
       "      <th>wgr</th>\n",
       "      <th>pred_score</th>\n",
       "    </tr>\n",
       "  </thead>\n",
       "  <tbody>\n",
       "    <tr>\n",
       "      <th>35</th>\n",
       "      <td>Matt Wallace</td>\n",
       "      <td>36</td>\n",
       "      <td>72.743180</td>\n",
       "    </tr>\n",
       "    <tr>\n",
       "      <th>37</th>\n",
       "      <td>Haotong Li</td>\n",
       "      <td>39</td>\n",
       "      <td>73.130037</td>\n",
       "    </tr>\n",
       "    <tr>\n",
       "      <th>47</th>\n",
       "      <td>Si Woo Kim</td>\n",
       "      <td>55</td>\n",
       "      <td>73.173321</td>\n",
       "    </tr>\n",
       "  </tbody>\n",
       "</table>\n",
       "</div>"
      ],
      "text/plain": [
       "     player_name  wgr  pred_score\n",
       "35  Matt Wallace   36   72.743180\n",
       "37    Haotong Li   39   73.130037\n",
       "47    Si Woo Kim   55   73.173321"
      ]
     },
     "execution_count": 18,
     "metadata": {},
     "output_type": "execute_result"
    }
   ],
   "source": [
    "sort_pred[sort_pred['wgr'] > 30].head(3)"
   ]
  },
  {
   "cell_type": "code",
   "execution_count": 19,
   "metadata": {},
   "outputs": [],
   "source": [
    "results2019 = pd.read_csv(\"results2019.csv\")\n",
    "results2019.columns = [\"position\", \"player_name\", 'total', 'avg_score']"
   ]
  },
  {
   "cell_type": "code",
   "execution_count": 20,
   "metadata": {},
   "outputs": [],
   "source": [
    "resultsAndPredicted = pd.merge(sort_pred, results2019, on= \"player_name\")"
   ]
  },
  {
   "cell_type": "code",
   "execution_count": 21,
   "metadata": {},
   "outputs": [
    {
     "data": {
      "text/html": [
       "<div>\n",
       "<style scoped>\n",
       "    .dataframe tbody tr th:only-of-type {\n",
       "        vertical-align: middle;\n",
       "    }\n",
       "\n",
       "    .dataframe tbody tr th {\n",
       "        vertical-align: top;\n",
       "    }\n",
       "\n",
       "    .dataframe thead th {\n",
       "        text-align: right;\n",
       "    }\n",
       "</style>\n",
       "<table border=\"1\" class=\"dataframe\">\n",
       "  <thead>\n",
       "    <tr style=\"text-align: right;\">\n",
       "      <th></th>\n",
       "      <th>player_name</th>\n",
       "      <th>wgr</th>\n",
       "      <th>pred_score</th>\n",
       "      <th>position</th>\n",
       "      <th>total</th>\n",
       "      <th>avg_score</th>\n",
       "    </tr>\n",
       "  </thead>\n",
       "  <tbody>\n",
       "    <tr>\n",
       "      <th>0</th>\n",
       "      <td>Rory McIlroy</td>\n",
       "      <td>3</td>\n",
       "      <td>70.910900</td>\n",
       "      <td>T21</td>\n",
       "      <td>283</td>\n",
       "      <td>70.75</td>\n",
       "    </tr>\n",
       "    <tr>\n",
       "      <th>1</th>\n",
       "      <td>Dustin Johnson</td>\n",
       "      <td>2</td>\n",
       "      <td>71.275450</td>\n",
       "      <td>T2</td>\n",
       "      <td>276</td>\n",
       "      <td>69.00</td>\n",
       "    </tr>\n",
       "    <tr>\n",
       "      <th>2</th>\n",
       "      <td>Justin Rose</td>\n",
       "      <td>1</td>\n",
       "      <td>71.614997</td>\n",
       "      <td>CUT</td>\n",
       "      <td>148</td>\n",
       "      <td>74.00</td>\n",
       "    </tr>\n",
       "    <tr>\n",
       "      <th>3</th>\n",
       "      <td>Justin Thomas</td>\n",
       "      <td>5</td>\n",
       "      <td>71.796443</td>\n",
       "      <td>T12</td>\n",
       "      <td>280</td>\n",
       "      <td>70.00</td>\n",
       "    </tr>\n",
       "    <tr>\n",
       "      <th>4</th>\n",
       "      <td>Patrick Cantlay</td>\n",
       "      <td>21</td>\n",
       "      <td>71.855517</td>\n",
       "      <td>T9</td>\n",
       "      <td>278</td>\n",
       "      <td>69.50</td>\n",
       "    </tr>\n",
       "  </tbody>\n",
       "</table>\n",
       "</div>"
      ],
      "text/plain": [
       "       player_name  wgr  pred_score position  total  avg_score\n",
       "0     Rory McIlroy    3   70.910900      T21    283      70.75\n",
       "1   Dustin Johnson    2   71.275450       T2    276      69.00\n",
       "2      Justin Rose    1   71.614997      CUT    148      74.00\n",
       "3    Justin Thomas    5   71.796443      T12    280      70.00\n",
       "4  Patrick Cantlay   21   71.855517       T9    278      69.50"
      ]
     },
     "execution_count": 21,
     "metadata": {},
     "output_type": "execute_result"
    }
   ],
   "source": [
    "resultsAndPredicted.head()"
   ]
  },
  {
   "cell_type": "code",
   "execution_count": 22,
   "metadata": {},
   "outputs": [
    {
     "data": {
      "text/plain": [
       "2.434779105051999"
      ]
     },
     "execution_count": 22,
     "metadata": {},
     "output_type": "execute_result"
    }
   ],
   "source": [
    "final_rmse = mean_squared_error(resultsAndPredicted['avg_score'], resultsAndPredicted['pred_score']) ** 0.5\n",
    "final_rmse"
   ]
  },
  {
   "cell_type": "code",
   "execution_count": null,
   "metadata": {
    "collapsed": true
   },
   "outputs": [],
   "source": []
  }
 ],
 "metadata": {
  "kernelspec": {
   "display_name": "SW - py3.6",
   "language": "python",
   "name": "py3.6"
  },
  "language_info": {
   "codemirror_mode": {
    "name": "ipython",
    "version": 3
   },
   "file_extension": ".py",
   "mimetype": "text/x-python",
   "name": "python",
   "nbconvert_exporter": "python",
   "pygments_lexer": "ipython3",
   "version": "3.6.7"
  }
 },
 "nbformat": 4,
 "nbformat_minor": 2
}
