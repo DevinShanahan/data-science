{
 "cells": [
  {
   "cell_type": "code",
   "execution_count": 1,
   "metadata": {
    "collapsed": true
   },
   "outputs": [],
   "source": [
    "import sqlite3"
   ]
  },
  {
   "cell_type": "code",
   "execution_count": 2,
   "metadata": {
    "collapsed": true
   },
   "outputs": [],
   "source": [
    "conn = sqlite3.connect(\"nominations.db\")"
   ]
  },
  {
   "cell_type": "code",
   "execution_count": 4,
   "metadata": {
    "collapsed": true
   },
   "outputs": [],
   "source": [
    "schema = conn.execute(\"pragma table_info(nominations);\").fetchall()"
   ]
  },
  {
   "cell_type": "code",
   "execution_count": 5,
   "metadata": {
    "collapsed": true
   },
   "outputs": [],
   "source": [
    "first_ten = conn.execute(\"SELECT * FROM nominations LIMIT 10\";).fetchall()"
   ]
  },
  {
   "cell_type": "code",
   "execution_count": 6,
   "metadata": {
    "collapsed": false
   },
   "outputs": [
    {
     "name": "stdout",
     "output_type": "stream",
     "text": [
      "(0, 'Year', 'INTEGER', 0, None, 0)\n",
      "(1, 'Category', 'TEXT', 0, None, 0)\n",
      "(2, 'Nominee', 'TEXT', 0, None, 0)\n",
      "(3, 'Won', 'INTEGER', 0, None, 0)\n",
      "(4, 'Movie', 'TEXT', 0, None, 0)\n",
      "(5, 'Character', 'TEXT', 0, None, 0)\n"
     ]
    }
   ],
   "source": [
    "for label in schema:\n",
    "    print(label)"
   ]
  },
  {
   "cell_type": "code",
   "execution_count": 7,
   "metadata": {
    "collapsed": false
   },
   "outputs": [
    {
     "name": "stdout",
     "output_type": "stream",
     "text": [
      "(2010, 'Actor -- Leading Role', 'Javier Bardem', 0, 'Biutiful', 'Uxbal')\n",
      "(2010, 'Actor -- Leading Role', 'Jeff Bridges', 0, 'True Grit', 'Rooster Cogburn')\n",
      "(2010, 'Actor -- Leading Role', 'Jesse Eisenberg', 0, 'The Social Network', 'Mark Zuckerberg')\n",
      "(2010, 'Actor -- Leading Role', 'Colin Firth', 1, \"The King's Speech\", 'King George VI')\n",
      "(2010, 'Actor -- Leading Role', 'James Franco', 0, '127 Hours', 'Aron Ralston')\n",
      "(2010, 'Actor -- Supporting Role', 'Christian Bale', 1, 'The Fighter', 'Dicky Eklund')\n",
      "(2010, 'Actor -- Supporting Role', 'John Hawkes', 0, \"Winter's Bone\", 'Teardrop')\n",
      "(2010, 'Actor -- Supporting Role', 'Jeremy Renner', 0, 'The Town', 'James Coughlin')\n",
      "(2010, 'Actor -- Supporting Role', 'Mark Ruffalo', 0, 'The Kids Are All Right', 'Paul')\n",
      "(2010, 'Actor -- Supporting Role', 'Geoffrey Rush', 0, \"The King's Speech\", 'Lionel Logue')\n"
     ]
    }
   ],
   "source": [
    "for row in first_ten:\n",
    "    print(row)"
   ]
  },
  {
   "cell_type": "code",
   "execution_count": 8,
   "metadata": {
    "collapsed": false
   },
   "outputs": [
    {
     "data": {
      "text/plain": [
       "<sqlite3.Cursor at 0x7f21b447d880>"
      ]
     },
     "execution_count": 8,
     "metadata": {},
     "output_type": "execute_result"
    }
   ],
   "source": [
    "create_query = '''\n",
    "CREATE TABLE ceremonies (\n",
    "id INTEGER PRIMARY KEY,\n",
    "Year INTEGER,\n",
    "Host TEXT\n",
    ");\n",
    "'''\n",
    "\n",
    "conn.execute(create_query)"
   ]
  },
  {
   "cell_type": "code",
   "execution_count": 9,
   "metadata": {
    "collapsed": true
   },
   "outputs": [],
   "source": [
    "years_hosts = [(2010, \"Steve Martin\"),\n",
    "               (2009, \"Hugh Jackman\"),\n",
    "               (2008, \"Jon Stewart\"),\n",
    "               (2007, \"Ellen DeGeneres\"),\n",
    "               (2006, \"Jon Stewart\"),\n",
    "               (2005, \"Chris Rock\"),\n",
    "               (2004, \"Billy Crystal\"),\n",
    "               (2003, \"Steve Martin\"),\n",
    "               (2002, \"Whoopi Goldberg\"),\n",
    "               (2001, \"Steve Martin\"),\n",
    "               (2000, \"Billy Crystal\"),\n",
    "            ]"
   ]
  },
  {
   "cell_type": "code",
   "execution_count": 10,
   "metadata": {
    "collapsed": true
   },
   "outputs": [],
   "source": [
    "insert_query = \"INSERT INTO ceremonies (Year, Host) VALUES (?,?);\""
   ]
  },
  {
   "cell_type": "code",
   "execution_count": 11,
   "metadata": {
    "collapsed": false
   },
   "outputs": [
    {
     "data": {
      "text/plain": [
       "<sqlite3.Cursor at 0x7f21b447d960>"
      ]
     },
     "execution_count": 11,
     "metadata": {},
     "output_type": "execute_result"
    }
   ],
   "source": [
    "conn.executemany(insert_query,years_hosts)"
   ]
  },
  {
   "cell_type": "code",
   "execution_count": 13,
   "metadata": {
    "collapsed": false
   },
   "outputs": [
    {
     "data": {
      "text/plain": [
       "[(1, 2010, 'Steve Martin'),\n",
       " (2, 2009, 'Hugh Jackman'),\n",
       " (3, 2008, 'Jon Stewart'),\n",
       " (4, 2007, 'Ellen DeGeneres'),\n",
       " (5, 2006, 'Jon Stewart'),\n",
       " (6, 2005, 'Chris Rock'),\n",
       " (7, 2004, 'Billy Crystal'),\n",
       " (8, 2003, 'Steve Martin'),\n",
       " (9, 2002, 'Whoopi Goldberg'),\n",
       " (10, 2001, 'Steve Martin')]"
      ]
     },
     "execution_count": 13,
     "metadata": {},
     "output_type": "execute_result"
    }
   ],
   "source": [
    "conn.execute(\"SELECT * FROM ceremonies LIMIT 10;\").fetchall()"
   ]
  },
  {
   "cell_type": "code",
   "execution_count": 14,
   "metadata": {
    "collapsed": false
   },
   "outputs": [
    {
     "data": {
      "text/plain": [
       "[(0, 'id', 'INTEGER', 0, None, 1),\n",
       " (1, 'Year', 'INTEGER', 0, None, 0),\n",
       " (2, 'Host', 'TEXT', 0, None, 0)]"
      ]
     },
     "execution_count": 14,
     "metadata": {},
     "output_type": "execute_result"
    }
   ],
   "source": [
    "conn.execute(\"pragma table_info(ceremonies);\").fetchall()"
   ]
  },
  {
   "cell_type": "code",
   "execution_count": 15,
   "metadata": {
    "collapsed": false
   },
   "outputs": [
    {
     "data": {
      "text/plain": [
       "<sqlite3.Cursor at 0x7f21b4403810>"
      ]
     },
     "execution_count": 15,
     "metadata": {},
     "output_type": "execute_result"
    }
   ],
   "source": [
    "conn.execute(\"pragma foreign_keys = on;\")"
   ]
  },
  {
   "cell_type": "code",
   "execution_count": 25,
   "metadata": {
    "collapsed": false
   },
   "outputs": [
    {
     "data": {
      "text/plain": [
       "<sqlite3.Cursor at 0x7f21b4403d50>"
      ]
     },
     "execution_count": 25,
     "metadata": {},
     "output_type": "execute_result"
    }
   ],
   "source": [
    "#conn.execute(\"DROP TABLE nominations_two;\")\n",
    "\n",
    "create_query2 = '''\n",
    "CREATE TABLE nominations_two (\n",
    "id INTEGER PRIMARY KEY,\n",
    "category TEXT,\n",
    "nominee TEXT,\n",
    "movie TEXT,\n",
    "character TEXT,\n",
    "won INTEGER,\n",
    "ceremony_id INTEGER,\n",
    "FOREIGN KEY (ceremony_id) REFERENCES ceremonies(id)\n",
    ");\n",
    "'''\n",
    "\n",
    "conn.execute(create_query2)"
   ]
  },
  {
   "cell_type": "code",
   "execution_count": 26,
   "metadata": {
    "collapsed": false
   },
   "outputs": [],
   "source": [
    "join_query = '''\n",
    "SELECT ceremonies.id as ceremony_id, nominations.category as nominations, \n",
    "nominations.nominee as nominee, nominations.movie as movie,\n",
    "nominations.character as character, nominations.won as won\n",
    "FROM nominations\n",
    "INNER JOIN ceremonies ON\n",
    "nominations.year == ceremonies.year;\n",
    "'''\n",
    "\n",
    "joined_nominations = conn.execute(join_query).fetchall()"
   ]
  },
  {
   "cell_type": "code",
   "execution_count": 27,
   "metadata": {
    "collapsed": false
   },
   "outputs": [
    {
     "data": {
      "text/plain": [
       "(1, 'Actor -- Leading Role', 'Javier Bardem', 'Biutiful', 'Uxbal', 0)"
      ]
     },
     "execution_count": 27,
     "metadata": {},
     "output_type": "execute_result"
    }
   ],
   "source": [
    "joined_nominations[0]"
   ]
  },
  {
   "cell_type": "code",
   "execution_count": 30,
   "metadata": {
    "collapsed": true
   },
   "outputs": [],
   "source": [
    "insert_nominations_two = '''\n",
    "INSERT INTO nominations_two(ceremony_id,category,nominee,movie,character,won)\n",
    "VALUES (?,?,?,?,?,?);\n",
    "'''"
   ]
  },
  {
   "cell_type": "code",
   "execution_count": 31,
   "metadata": {
    "collapsed": false
   },
   "outputs": [
    {
     "data": {
      "text/plain": [
       "<sqlite3.Cursor at 0x7f21b43a23b0>"
      ]
     },
     "execution_count": 31,
     "metadata": {},
     "output_type": "execute_result"
    }
   ],
   "source": [
    "conn.executemany(insert_nominations_two,joined_nominations)"
   ]
  },
  {
   "cell_type": "code",
   "execution_count": 32,
   "metadata": {
    "collapsed": false
   },
   "outputs": [
    {
     "data": {
      "text/plain": [
       "[(1, 'Actor -- Leading Role', 'Javier Bardem', 'Biutiful', 'Uxbal', 0, 1),\n",
       " (2,\n",
       "  'Actor -- Leading Role',\n",
       "  'Jeff Bridges',\n",
       "  'True Grit',\n",
       "  'Rooster Cogburn',\n",
       "  0,\n",
       "  1),\n",
       " (3,\n",
       "  'Actor -- Leading Role',\n",
       "  'Jesse Eisenberg',\n",
       "  'The Social Network',\n",
       "  'Mark Zuckerberg',\n",
       "  0,\n",
       "  1),\n",
       " (4,\n",
       "  'Actor -- Leading Role',\n",
       "  'Colin Firth',\n",
       "  \"The King's Speech\",\n",
       "  'King George VI',\n",
       "  1,\n",
       "  1),\n",
       " (5,\n",
       "  'Actor -- Leading Role',\n",
       "  'James Franco',\n",
       "  '127 Hours',\n",
       "  'Aron Ralston',\n",
       "  0,\n",
       "  1)]"
      ]
     },
     "execution_count": 32,
     "metadata": {},
     "output_type": "execute_result"
    }
   ],
   "source": [
    "conn.execute(\"SELECT * FROM nominations_two LIMIT 5;\").fetchall()"
   ]
  },
  {
   "cell_type": "code",
   "execution_count": 33,
   "metadata": {
    "collapsed": false
   },
   "outputs": [
    {
     "data": {
      "text/plain": [
       "<sqlite3.Cursor at 0x7f21b43a20a0>"
      ]
     },
     "execution_count": 33,
     "metadata": {},
     "output_type": "execute_result"
    }
   ],
   "source": [
    "conn.execute(\"DROP TABLE nominations\")"
   ]
  },
  {
   "cell_type": "code",
   "execution_count": 34,
   "metadata": {
    "collapsed": false
   },
   "outputs": [
    {
     "data": {
      "text/plain": [
       "<sqlite3.Cursor at 0x7f21b4403f80>"
      ]
     },
     "execution_count": 34,
     "metadata": {},
     "output_type": "execute_result"
    }
   ],
   "source": [
    "conn.execute(\"ALTER TABLE nominations_two RENAME TO nominations\")"
   ]
  },
  {
   "cell_type": "code",
   "execution_count": 79,
   "metadata": {
    "collapsed": false
   },
   "outputs": [],
   "source": [
    "create_movies = '''\n",
    "CREATE TABLE movies (\n",
    "id integer primary key,\n",
    "movie text\n",
    ");\n",
    "'''\n",
    "create_actors = '''\n",
    "CREATE TABLE actors (\n",
    "id integer primary key,\n",
    "actor text\n",
    ");\n",
    "'''\n",
    "\n",
    "create_movies_actors = '''\n",
    "CREATE TABLE movies_actors (\n",
    "id integer primary key,\n",
    "movie_id integer references movies(id),\n",
    "actor_id integer references actors(id)\n",
    ");\n",
    "'''\n",
    "\n",
    "for query in [create_movies,create_actors,create_movies_actors]:\n",
    "    conn.execute(query)"
   ]
  },
  {
   "cell_type": "code",
   "execution_count": null,
   "metadata": {
    "collapsed": true
   },
   "outputs": [],
   "source": []
  }
 ],
 "metadata": {
  "kernelspec": {
   "display_name": "Python 3",
   "language": "python",
   "name": "python3"
  },
  "language_info": {
   "codemirror_mode": {
    "name": "ipython",
    "version": 3
   },
   "file_extension": ".py",
   "mimetype": "text/x-python",
   "name": "python",
   "nbconvert_exporter": "python",
   "pygments_lexer": "ipython3",
   "version": "3.4.3"
  }
 },
 "nbformat": 4,
 "nbformat_minor": 0
}
